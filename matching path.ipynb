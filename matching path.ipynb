{
 "cells": [
  {
   "cell_type": "markdown",
   "id": "be4168bf",
   "metadata": {},
   "source": [
    "# OS 모듈의 유용한 함수"
   ]
  },
  {
   "cell_type": "markdown",
   "id": "86a2880d",
   "metadata": {},
   "source": [
    "#### 현재 위치한 파일 경로 추출 : os.getcwd()"
   ]
  },
  {
   "cell_type": "code",
   "execution_count": 4,
   "id": "a294b1f3",
   "metadata": {},
   "outputs": [
    {
     "data": {
      "text/plain": [
       "'C:\\\\Users\\\\jjy\\\\prac'"
      ]
     },
     "execution_count": 4,
     "metadata": {},
     "output_type": "execute_result"
    }
   ],
   "source": [
    "import os\n",
    "os.getcwd()"
   ]
  },
  {
   "cell_type": "markdown",
   "id": "60e3dc59",
   "metadata": {},
   "source": [
    "#### 인자로 넘겨준 경로의 파일 리스트를 리턴 : os.listdir()\n",
    "\n",
    "- 인자로 './' 를 넣어주면 현재 디렉토리에 있는 모든 파일과 폴더를 보여준다.\n",
    "- 이 때 리눅스 터미널 창에서 ls 명령어와 같은 역할을 한다.\n",
    "- 결과는 리스트 형태로 주어지기 때문에, 하위 디렉토리의 더 하위 디렉토리 등을 확인하거나 거기서 작업해야 할 게 있을 때, 반복문으로 사용하면 편리하다.\n",
    "\n",
    "    \n",
    "    만약 현재 경로에서 확장자가 .txt인 파일의 목록만 얻고 싶다면 그 코드는 다음과 같다.\n",
    "    \n",
    "    files = os.listdir()\n",
    "    txt_files = [file for file in files if file.endswith(\".txt\")]"
   ]
  },
  {
   "cell_type": "code",
   "execution_count": 5,
   "id": "fabd35f8",
   "metadata": {},
   "outputs": [
    {
     "name": "stdout",
     "output_type": "stream",
     "text": [
      "['.ipynb_checkpoints', 'pics', 'sample.json', 'Untitled.ipynb']\n"
     ]
    }
   ],
   "source": [
    "print(os.listdir(os.getcwd()))"
   ]
  },
  {
   "cell_type": "markdown",
   "id": "1e95fa0e",
   "metadata": {},
   "source": [
    "#### 인자로 넘겨준 것들을 경로로 합쳐준다 : os.join.path()\n",
    "\n",
    "#### 해당 경로가 실제로 존재하는 지 확인 --> T/F : os.path.exists()\n",
    "\n",
    "#### 현재 경로에 dir 생성 : os.mkdir()\n",
    "- 디렉터리가 이미 존재하면, FileExistsError가 발생한다.\n",
    "\n",
    "#### 작업 경로 변경 : os.chdir()\n",
    "\n",
    "#### 파일을 삭제하기 위한 함수 : os.remove()\n",
    "- 주어진 경로가 디렉터리면 IsADirectoryError를 레이즈한다.\n",
    "- 파일이 존재하지 않으면 FileNotFoundError를 레이즈한다.\n",
    "\n",
    "#### 디렉터리를 제거하기 위한 함수 : os.rmdir()\n",
    "- 디렉터리가 존재하지 않거나 비어있지 않으면 FileNotFoundError를 레이즈한다.\n",
    "\n",
    "#### path가 존재하면 참을 리턴 : path.exists(path) \n",
    "\n",
    "#### path가 존재하는 파일이면 참을 리턴 : path.isfile(path)\n",
    "\n",
    "\n",
    "####  path가 존재하는 디렉터리면 참을 리턴한다. : path.isdir(path)"
   ]
  },
  {
   "cell_type": "code",
   "execution_count": 8,
   "id": "a895393b",
   "metadata": {},
   "outputs": [
    {
     "data": {
      "text/plain": [
       "['vid_5_25100', 'vid_5_25120', 'vid_5_400', 'vid_5_420', 'vid_5_440']"
      ]
     },
     "execution_count": 8,
     "metadata": {},
     "output_type": "execute_result"
    }
   ],
   "source": [
    "# path 내 존재하는 파일명을 확장자 제외한 상태로 추출\n",
    "\n",
    "path='./pics/'\n",
    "\n",
    "file_list = os.listdir(path)\n",
    "\n",
    "file_name = []\n",
    "for file in file_list:\n",
    "    if file.count(\".\") == 1:\n",
    "        name = file.split('.')[0]\n",
    "        file_name.append(name)\n",
    "    else:\n",
    "        for k in range(len(file)-1,0,-1):\n",
    "            if file[k]=='.':\n",
    "                file_name.append(file[:k])\n",
    "                break\n",
    "                \n",
    "file_name"
   ]
  },
  {
   "cell_type": "code",
   "execution_count": 10,
   "id": "4b8dd142",
   "metadata": {},
   "outputs": [
    {
     "data": {
      "text/plain": [
       "['vid_5_25100.jpg',\n",
       " 'vid_5_25120.jpg',\n",
       " 'vid_5_400.jpg',\n",
       " 'vid_5_420.jpg',\n",
       " 'vid_5_440.jpg']"
      ]
     },
     "execution_count": 10,
     "metadata": {},
     "output_type": "execute_result"
    }
   ],
   "source": [
    "# path 내 존재하는 파일을 확장자까지 포함해서 파일명을 추출\n",
    "\n",
    "file_list = os.listdir(path)\n",
    "\n",
    "file_name = []\n",
    "for file in file_list:\n",
    "    file_name.append(file)\n",
    "    \n",
    "file_name"
   ]
  },
  {
   "cell_type": "code",
   "execution_count": 11,
   "id": "9bb14f58",
   "metadata": {},
   "outputs": [
    {
     "data": {
      "text/plain": [
       "['vid_5_25100.jpg',\n",
       " 'vid_5_25120.jpg',\n",
       " 'vid_5_400.jpg',\n",
       " 'vid_5_420.jpg',\n",
       " 'vid_5_440.jpg']"
      ]
     },
     "execution_count": 11,
     "metadata": {},
     "output_type": "execute_result"
    }
   ],
   "source": [
    "# 위랑 똑같은 결과\n",
    "file_path = os.listdir(path)\n",
    "file_path"
   ]
  },
  {
   "cell_type": "markdown",
   "id": "606bdbf6",
   "metadata": {},
   "source": [
    "#### extract real path : 파일의 절대 경로 추출\n",
    "\n",
    "- https://gist.github.com/yunwoong7/b02fa46e7fef7c86d8461b9b5a70bfd2"
   ]
  },
  {
   "cell_type": "code",
   "execution_count": 15,
   "id": "672edc2f",
   "metadata": {},
   "outputs": [],
   "source": [
    "# glob : 조건에 해당하는 파일명을 리스트 형식으로 리턴\n",
    "import glob"
   ]
  },
  {
   "cell_type": "code",
   "execution_count": 16,
   "id": "59b838b7",
   "metadata": {},
   "outputs": [
    {
     "name": "stdout",
     "output_type": "stream",
     "text": [
      "['C:/Users/jjy/prac/pics\\\\vid_5_25100.jpg', 'C:/Users/jjy/prac/pics\\\\vid_5_25120.jpg', 'C:/Users/jjy/prac/pics\\\\vid_5_400.jpg', 'C:/Users/jjy/prac/pics\\\\vid_5_420.jpg', 'C:/Users/jjy/prac/pics\\\\vid_5_440.jpg']\n"
     ]
    }
   ],
   "source": [
    "path='C:/Users/jjy/prac/pics/*'\n",
    "output = glob.glob(path)\n",
    "print(output)"
   ]
  },
  {
   "cell_type": "markdown",
   "id": "7c53230f",
   "metadata": {},
   "source": [
    "-------------------------------------------------------------------------------------------------------------------------------------------"
   ]
  },
  {
   "cell_type": "markdown",
   "id": "2e355d6f",
   "metadata": {},
   "source": [
    "# matching file path and json path"
   ]
  },
  {
   "cell_type": "code",
   "execution_count": 18,
   "id": "c5c4a3f8",
   "metadata": {},
   "outputs": [
    {
     "name": "stdout",
     "output_type": "stream",
     "text": [
      "{'posts': [{'title': 'C:/Users/jjy/prac/pics\\\\vid_5_440.jpg', 'url': 'https://codechacha.com/ko/get-free-and-total-size-of-volumes-in-android/', 'draft': 'false'}, {'title': 'C:/Users/jjy/prac/pics\\\\vid_5_420.jpg', 'url': 'https://codechacha.com/ko/android-q-scoped-storage/', 'draft': 'false'}, {'title': 'C:/Users/jjy/prac/pics\\\\vid_5_400.jpg', 'url': 'https://codechacha.com/ko/android-q-scoped-storage/', 'draft': 'false'}, {'title': 'C:/Users/jjy/prac/pics\\\\vid_5_25120.jpg', 'url': 'https://codechacha.com/ko/android-q-scoped-storage/', 'draft': 'false'}, {'title': 'C:/Users/jjy/prac/pics\\\\vid_5_25100.jpg', 'url': 'https://codechacha.com/ko/android-q-scoped-storage/', 'draft': 'false'}]}\n"
     ]
    }
   ],
   "source": [
    "# json 만들기 (연습)\n",
    "\n",
    "# json 파일을 아직 받지 못한 상황이기 때문에 직접 예시를 만들어보면서 연습\n",
    "\n",
    "import json\n",
    "\n",
    "file_path = \"./sample.json\"\n",
    "\n",
    "data = {}\n",
    "data['posts'] = []\n",
    "data['posts'].append({\n",
    "    \"title\": \"C:/Users/jjy/prac/pics\\\\vid_5_440.jpg\",\n",
    "    \"url\": \"https://codechacha.com/ko/get-free-and-total-size-of-volumes-in-android/\",\n",
    "    \"draft\": \"false\"\n",
    "})\n",
    "data['posts'].append({\n",
    "    \"title\": \"C:/Users/jjy/prac/pics\\\\vid_5_420.jpg\",\n",
    "    \"url\": \"https://codechacha.com/ko/android-q-scoped-storage/\",\n",
    "    \"draft\": \"false\"\n",
    "})\n",
    "data['posts'].append({\n",
    "    \"title\": \"C:/Users/jjy/prac/pics\\\\vid_5_400.jpg\",\n",
    "    \"url\": \"https://codechacha.com/ko/android-q-scoped-storage/\",\n",
    "    \"draft\": \"false\"\n",
    "})\n",
    "data['posts'].append({\n",
    "    \"title\": \"C:/Users/jjy/prac/pics\\\\vid_5_25120.jpg\",\n",
    "    \"url\": \"https://codechacha.com/ko/android-q-scoped-storage/\",\n",
    "    \"draft\": \"false\"\n",
    "})\n",
    "data['posts'].append({\n",
    "    \"title\": \"C:/Users/jjy/prac/pics\\\\vid_5_25100.jpg\",\n",
    "    \"url\": \"https://codechacha.com/ko/android-q-scoped-storage/\",\n",
    "    \"draft\": \"false\"\n",
    "})\n",
    "\n",
    "print(data)\n",
    "\n",
    "with open(file_path, 'w') as outfile:\n",
    "    json.dump(data, outfile)"
   ]
  },
  {
   "cell_type": "markdown",
   "id": "d073f10a",
   "metadata": {},
   "source": [
    "#### prac 1\n",
    "\n",
    "- https://jimmy-ai.tistory.com/147"
   ]
  },
  {
   "cell_type": "code",
   "execution_count": 19,
   "id": "742be9c4",
   "metadata": {},
   "outputs": [],
   "source": [
    "with open (\"sample.json\", \"r\") as f:\n",
    "    data = json.load(f)"
   ]
  },
  {
   "cell_type": "code",
   "execution_count": 20,
   "id": "4faf3444",
   "metadata": {},
   "outputs": [
    {
     "data": {
      "text/plain": [
       "'C:/Users/jjy/prac/pics\\\\vid_5_440.jpg'"
      ]
     },
     "execution_count": 20,
     "metadata": {},
     "output_type": "execute_result"
    }
   ],
   "source": [
    "# 인덱스를 활용하여 json 파일 내 데이터 추출\n",
    "data['posts'][0]['title']"
   ]
  },
  {
   "cell_type": "code",
   "execution_count": 21,
   "id": "ba4527ac",
   "metadata": {},
   "outputs": [
    {
     "name": "stdout",
     "output_type": "stream",
     "text": [
      "['C:/Users/jjy/prac/pics\\\\vid_5_440.jpg', 'C:/Users/jjy/prac/pics\\\\vid_5_420.jpg', 'C:/Users/jjy/prac/pics\\\\vid_5_400.jpg', 'C:/Users/jjy/prac/pics\\\\vid_5_25120.jpg', 'C:/Users/jjy/prac/pics\\\\vid_5_25100.jpg']\n"
     ]
    }
   ],
   "source": [
    "# json 파일 내 폴더 경로만 추출하는 방법\n",
    "\n",
    "ran = len(file_name)\n",
    "\n",
    "prac = []\n",
    "for i in range(0,ran):\n",
    "    k = data['posts'][i]['title']\n",
    "    prac.append(k)\n",
    "\n",
    "print(prac)"
   ]
  },
  {
   "cell_type": "code",
   "execution_count": 23,
   "id": "3ab2a26f",
   "metadata": {},
   "outputs": [
    {
     "name": "stdout",
     "output_type": "stream",
     "text": [
      "C:/Users/jjy/prac/pics\\vid_5_25100.jpg C:/Users/jjy/prac/pics\\vid_5_440.jpg\n",
      "['C:/Users/jjy/prac/pics\\\\vid_5_440.jpg', 'C:/Users/jjy/prac/pics\\\\vid_5_420.jpg', 'C:/Users/jjy/prac/pics\\\\vid_5_400.jpg', 'C:/Users/jjy/prac/pics\\\\vid_5_25120.jpg', 'C:/Users/jjy/prac/pics\\\\vid_5_25100.jpg']\n"
     ]
    }
   ],
   "source": [
    "# output : 사진의 실제 경로 추출한 것\n",
    "# prac : json에 쓰여있는 사진의 경로를 추출한 것\n",
    "\n",
    "a = output[0]\n",
    "b = prac[0]\n",
    "\n",
    "print(a,b)\n",
    "print(prac)"
   ]
  },
  {
   "cell_type": "code",
   "execution_count": 24,
   "id": "5cbd9882",
   "metadata": {},
   "outputs": [
    {
     "data": {
      "text/plain": [
       "4"
      ]
     },
     "execution_count": 24,
     "metadata": {},
     "output_type": "execute_result"
    }
   ],
   "source": [
    "# 사진의 실제 경로(a)와 동일한 값을 prac에서 찾은 뒤 인덱스 추출\n",
    "# prac[4] == output[0]\n",
    "\n",
    "prac.index(a)"
   ]
  },
  {
   "cell_type": "code",
   "execution_count": 101,
   "id": "b000b86e",
   "metadata": {},
   "outputs": [],
   "source": [
    "# 사진의 실제 경로로 json 파일을 수정하기\n",
    "\n",
    "data['posts'][0]['title']=prac[4]\n",
    "\n",
    "data"
   ]
  },
  {
   "cell_type": "markdown",
   "id": "b6a936c1",
   "metadata": {},
   "source": [
    "#### prac2"
   ]
  },
  {
   "cell_type": "code",
   "execution_count": 27,
   "id": "3aadf5e4",
   "metadata": {},
   "outputs": [],
   "source": [
    "ran = len(output)\n",
    "\n",
    "for i in range(0,ran):\n",
    "    a = output[i]\n",
    "    b = prac[i]\n",
    "    if a != b :\n",
    "        k = prac.index(a)\n",
    "        data['posts'][i]['title'] = prac[k]"
   ]
  },
  {
   "cell_type": "code",
   "execution_count": 28,
   "id": "b4b783dd",
   "metadata": {},
   "outputs": [
    {
     "data": {
      "text/plain": [
       "{'posts': [{'title': 'C:/Users/jjy/prac/pics\\\\vid_5_25100.jpg',\n",
       "   'url': 'https://codechacha.com/ko/get-free-and-total-size-of-volumes-in-android/',\n",
       "   'draft': 'false'},\n",
       "  {'title': 'C:/Users/jjy/prac/pics\\\\vid_5_25120.jpg',\n",
       "   'url': 'https://codechacha.com/ko/android-q-scoped-storage/',\n",
       "   'draft': 'false'},\n",
       "  {'title': 'C:/Users/jjy/prac/pics\\\\vid_5_400.jpg',\n",
       "   'url': 'https://codechacha.com/ko/android-q-scoped-storage/',\n",
       "   'draft': 'false'},\n",
       "  {'title': 'C:/Users/jjy/prac/pics\\\\vid_5_420.jpg',\n",
       "   'url': 'https://codechacha.com/ko/android-q-scoped-storage/',\n",
       "   'draft': 'false'},\n",
       "  {'title': 'C:/Users/jjy/prac/pics\\\\vid_5_440.jpg',\n",
       "   'url': 'https://codechacha.com/ko/android-q-scoped-storage/',\n",
       "   'draft': 'false'}]}"
      ]
     },
     "execution_count": 28,
     "metadata": {},
     "output_type": "execute_result"
    }
   ],
   "source": [
    "data"
   ]
  },
  {
   "cell_type": "code",
   "execution_count": 29,
   "id": "7d1a4699",
   "metadata": {},
   "outputs": [
    {
     "data": {
      "text/plain": [
       "['C:/Users/jjy/prac/pics\\\\vid_5_25100.jpg',\n",
       " 'C:/Users/jjy/prac/pics\\\\vid_5_25120.jpg',\n",
       " 'C:/Users/jjy/prac/pics\\\\vid_5_400.jpg',\n",
       " 'C:/Users/jjy/prac/pics\\\\vid_5_420.jpg',\n",
       " 'C:/Users/jjy/prac/pics\\\\vid_5_440.jpg']"
      ]
     },
     "execution_count": 29,
     "metadata": {},
     "output_type": "execute_result"
    }
   ],
   "source": [
    "output"
   ]
  }
 ],
 "metadata": {
  "kernelspec": {
   "display_name": "Python 3",
   "language": "python",
   "name": "python3"
  },
  "language_info": {
   "codemirror_mode": {
    "name": "ipython",
    "version": 3
   },
   "file_extension": ".py",
   "mimetype": "text/x-python",
   "name": "python",
   "nbconvert_exporter": "python",
   "pygments_lexer": "ipython3",
   "version": "3.8.8"
  }
 },
 "nbformat": 4,
 "nbformat_minor": 5
}
